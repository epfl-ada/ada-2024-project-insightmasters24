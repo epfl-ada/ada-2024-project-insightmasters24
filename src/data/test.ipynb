{
 "cells": [
  {
   "cell_type": "code",
   "execution_count": 12,
   "metadata": {},
   "outputs": [],
   "source": [
    "import json\n",
    "\n",
    "import pandas as pd\n",
    "\n",
    "character_metadata_path = \"../../data/character.metadata.tsv\"\n",
    "movie_metadata_path = \"../../data/movie.metadata.tsv\"\n",
    "name_cluster_path = \"../../data/name.clusters.tsv\"\n",
    "plot_summaries_path = \"../../data/plot_summaries.tsv\"\n",
    "tvtropes_path = \"../../data/tvtropes.clusters.tsv\"\n",
    "\n",
    "\n",
    "characterMetadata = pd.read_csv(character_metadata_path, sep=\"\\t\")\n",
    "movieMetadata = pd.read_csv(movie_metadata_path, sep=\"\\t\")\n",
    "nameCluster = pd.read_csv(\n",
    "    name_cluster_path,\n",
    "    sep=\"\\t\",\n",
    "    names=[\"Character name\", \"Freebase character/actor map ID\"],\n",
    ")\n",
    "plotSummaries = pd.read_csv(\n",
    "    plot_summaries_path, sep=\"\\t\", names=[\"Wikipedia movie ID\", \"plot\"]\n",
    ")\n",
    "tvtropes = pd.read_csv(tvtropes_path, sep=\"\\t\", names=[\"trope\", \"details\"])\n",
    "tvtropes = pd.concat(\n",
    "    [tvtropes[\"trope\"], tvtropes[\"details\"].apply(json.loads).apply(pd.Series)], axis=1\n",
    ")"
   ]
  },
  {
   "cell_type": "code",
   "execution_count": null,
   "metadata": {},
   "outputs": [],
   "source": [
    "print(\"Character Metadata\")\n",
    "display(characterMetadata.head())\n",
    "print(\"Movie Metadata\")\n",
    "display(movieMetadata.head())\n",
    "print(\"Name Cluster\")\n",
    "display(nameCluster.head())\n",
    "print(\"Plot Summaries\")\n",
    "display(plotSummaries.head())\n",
    "print(\"TV Tropes\")\n",
    "display(tvtropes.head())"
   ]
  },
  {
   "cell_type": "code",
   "execution_count": 14,
   "metadata": {},
   "outputs": [],
   "source": [
    "movies = pd.merge(\n",
    "    movieMetadata,\n",
    "    characterMetadata,\n",
    "    on=[\"Wikipedia movie ID\", \"Freebase movie ID\"],\n",
    "    how=\"inner\",\n",
    ")\n",
    "movies = pd.merge(movies, plotSummaries, on=\"Wikipedia movie ID\", how=\"inner\")\n",
    "movies = pd.merge(\n",
    "    movies, nameCluster, on=\"Freebase character/actor map ID\", how=\"inner\"\n",
    ")\n",
    "# merge with tvtropes"
   ]
  },
  {
   "cell_type": "code",
   "execution_count": null,
   "metadata": {},
   "outputs": [],
   "source": [
    "display(movies.head())"
   ]
  },
  {
   "cell_type": "code",
   "execution_count": null,
   "metadata": {},
   "outputs": [],
   "source": []
  }
 ],
 "metadata": {
  "kernelspec": {
   "display_name": "ada",
   "language": "python",
   "name": "python3"
  },
  "language_info": {
   "codemirror_mode": {
    "name": "ipython",
    "version": 3
   },
   "file_extension": ".py",
   "mimetype": "text/x-python",
   "name": "python",
   "nbconvert_exporter": "python",
   "pygments_lexer": "ipython3",
   "version": "3.12.2"
  }
 },
 "nbformat": 4,
 "nbformat_minor": 2
}
