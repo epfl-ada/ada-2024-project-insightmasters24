{
 "cells": [
  {
   "cell_type": "code",
   "execution_count": null,
   "metadata": {},
   "outputs": [],
   "source": [
    "#Preprocessing the data for the linear regression model\n",
    "def regression_preprocessing(df):\n",
    "    \"\"\"\n",
    "    Preprocess the dataframe for regression analysis by segmenting it into 5-year periods.\n",
    "    \n",
    "    Args:\n",
    "        df (pd.DataFrame): Input DataFrame containing results\n",
    "        \n",
    "    Returns:\n",
    "        dict: Dictionary of DataFrames for each time period\n",
    "    \"\"\"\n",
    "    \n",
    "    # Create time periods (5-year intervals)\n",
    "    df['period'] = pd.cut(df['year'], \n",
    "                         bins=range(df['year'].min(), \n",
    "                                  df['year'].max() + 5, \n",
    "                                  5),\n",
    "                         labels=[f\"{i}-{i+4}\" \n",
    "                                for i in range(df['year'].min(), \n",
    "                                             df['year'].max(), \n",
    "                                             5)])\n",
    "    \n",
    "    # Create dictionary to store period-specific dataframes\n",
    "    period_dfs = {}\n",
    "    \n",
    "    for period in df['period'].unique():\n",
    "        period_df = df[df['period'] == period].copy()\n",
    "        \n",
    "        # Basic data quality checks\n",
    "        print(f\"\\nPeriod {period}:\")\n",
    "        print(f\"Number of observations: {len(period_df)}\")\n",
    "        print(f\"Number of unique movies: {period_df['movie_id'].nunique()}\")\n",
    "        \n",
    "        # Store the period DataFrame if it has enough observations\n",
    "        if len(period_df) > 500:  # Minimum threshold for meaningful analysis\n",
    "            period_dfs[period] = period_df\n",
    "        else:\n",
    "            print(f\"Warning: Period {period} has insufficient data and will be excluded\")\n",
    "    \n",
    "    return period_dfs\n"
   ]
  }
 ],
 "metadata": {
  "language_info": {
   "name": "python"
  }
 },
 "nbformat": 4,
 "nbformat_minor": 2
}
