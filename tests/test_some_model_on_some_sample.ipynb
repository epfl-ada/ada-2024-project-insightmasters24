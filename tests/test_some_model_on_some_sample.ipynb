{
 "cells": [
  {
   "cell_type": "code",
   "execution_count": null,
   "metadata": {},
   "outputs": [
    {
     "ename": "ImportError",
     "evalue": "attempted relative import with no known parent package",
     "output_type": "error",
     "traceback": [
      "\u001b[1;31m---------------------------------------------------------------------------\u001b[0m",
      "\u001b[1;31mImportError\u001b[0m                               Traceback (most recent call last)",
      "Cell \u001b[1;32mIn[1], line 7\u001b[0m\n\u001b[0;32m      4\u001b[0m \u001b[38;5;28;01mimport\u001b[39;00m \u001b[38;5;21;01mwarnings\u001b[39;00m\n\u001b[0;32m      5\u001b[0m \u001b[38;5;28;01mfrom\u001b[39;00m \u001b[38;5;21;01msklearn\u001b[39;00m\u001b[38;5;21;01m.\u001b[39;00m\u001b[38;5;21;01mmodel_selection\u001b[39;00m \u001b[38;5;28;01mimport\u001b[39;00m train_test_split\n\u001b[1;32m----> 7\u001b[0m \u001b[38;5;28;01mfrom\u001b[39;00m \u001b[38;5;21;01m.\u001b[39;00m\u001b[38;5;21;01m.\u001b[39;00m\u001b[38;5;21;01mmodels\u001b[39;00m\u001b[38;5;21;01m.\u001b[39;00m\u001b[38;5;21;01msome_models\u001b[39;00m \u001b[38;5;28;01mimport\u001b[39;00m robust_regression_model, time_period_regressions\n\u001b[0;32m      8\u001b[0m \u001b[38;5;28;01mfrom\u001b[39;00m \u001b[38;5;21;01m.\u001b[39;00m\u001b[38;5;21;01m.\u001b[39;00m\u001b[38;5;21;01mmodels\u001b[39;00m\u001b[38;5;21;01m.\u001b[39;00m\u001b[38;5;21;01mmodel_data_preprocessing\u001b[39;00m \u001b[38;5;28;01mimport\u001b[39;00m regression_preprocessing\n\u001b[0;32m     10\u001b[0m \u001b[38;5;28;01mdef\u001b[39;00m \u001b[38;5;21mrun_analysis\u001b[39m(df: pd\u001b[38;5;241m.\u001b[39mDataFrame):\n",
      "\u001b[1;31mImportError\u001b[0m: attempted relative import with no known parent package"
     ]
    }
   ],
   "source": [
    "import pandas as pd\n",
    "import numpy as np\n",
    "from typing import Dict\n",
    "import warnings\n",
    "from sklearn.model_selection import train_test_split\n",
    "\n",
    "\n",
    "\n",
    "def run_analysis(df: pd.DataFrame):\n",
    "    \"\"\"\n",
    "    Run the complete regression analysis pipeline\n",
    "    \n",
    "    Args:\n",
    "        df (pd.DataFrame): Input DataFrame with your movie data\n",
    "    \"\"\"\n",
    "    # Step 1: Preprocess the data\n",
    "    print(\"Starting data preprocessing...\")\n",
    "    period_dfs = regression_preprocessing(df)\n",
    "    \n",
    "    # Step 2: Randomly select features and target variable\n",
    "    all_columns = df.columns.tolist()\n",
    "    time_col = 'year'\n",
    "    all_columns.remove(time_col)  # Ensure 'year' is not selected as a feature or target\n",
    "    y_col = np.random.choice(all_columns)\n",
    "    X_cols = [col for col in all_columns if col != y_col]\n",
    "    \n",
    "    print(f\"Selected target column: {y_col}\")\n",
    "    print(f\"Selected feature columns: {X_cols}\")\n",
    "    \n",
    "    # Step 3: Split the data into training and test sets\n",
    "    train_df, test_df = train_test_split(df, test_size=0.2, random_state=42)\n",
    "    \n",
    "    # Step 4: Run both types of regression\n",
    "    \n",
    "    # 4.1: Full dataset robust regression on training data\n",
    "    print(\"\\n=== Full Dataset Robust Regression (Training Data) ===\")\n",
    "    full_results = robust_regression_model(train_df[X_cols], train_df[y_col])\n",
    "    print(\"\\nFull Dataset Results (Training Data):\")\n",
    "    print(full_results['summary'])\n",
    "    print(f\"R-squared: {full_results['rsquared']:.4f}\")\n",
    "    print(f\"Number of observations: {full_results['nobs']}\")\n",
    "    \n",
    "    # 4.2: Period-specific regressions on training data\n",
    "    print(\"\\n=== Period-Specific Regressions (Training Data) ===\")\n",
    "    period_results = time_period_regressions(\n",
    "        df=train_df,\n",
    "        X_cols=X_cols,\n",
    "        y_col=y_col,\n",
    "        time_col=time_col\n",
    "    )\n",
    "    \n",
    "    # Print results for each period\n",
    "    if 'summary' in period_results:\n",
    "        periods = period_results['summary']['period'].unique()\n",
    "        for period in periods:\n",
    "            period_data = period_results['summary'][\n",
    "                period_results['summary']['period'] == period\n",
    "            ]\n",
    "            print(f\"\\nPeriod: {period}\")\n",
    "            print(\"-\" * 50)\n",
    "            print(period_data.drop('period', axis=1).to_string())\n",
    "            print(f\"R-squared: {period_data['r_squared'].iloc[0]:.4f}\")\n",
    "            print(f\"Observations: {period_data['n_observations'].iloc[0]}\")\n"
   ]
  }
 ],
 "metadata": {
  "kernelspec": {
   "display_name": "base",
   "language": "python",
   "name": "python3"
  },
  "language_info": {
   "codemirror_mode": {
    "name": "ipython",
    "version": 3
   },
   "file_extension": ".py",
   "mimetype": "text/x-python",
   "name": "python",
   "nbconvert_exporter": "python",
   "pygments_lexer": "ipython3",
   "version": "3.12.4"
  }
 },
 "nbformat": 4,
 "nbformat_minor": 2
}
