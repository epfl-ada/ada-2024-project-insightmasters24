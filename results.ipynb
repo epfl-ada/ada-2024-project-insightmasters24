{
 "cells": [
  {
   "cell_type": "code",
   "execution_count": null,
   "metadata": {},
   "outputs": [],
   "source": [
    "import matplotlib.pyplot as plt\n",
    "import pandas as pd\n",
    "import requests\n",
    "from src.data.dataloader import DataLoader\n",
    "\n",
    "%load_ext autoreload\n",
    "%autoreload 2"
   ]
  },
  {
   "cell_type": "code",
   "execution_count": null,
   "metadata": {},
   "outputs": [],
   "source": [
    "dataloader = DataLoader()"
   ]
  },
  {
   "cell_type": "code",
   "execution_count": null,
   "metadata": {},
   "outputs": [],
   "source": [
    "characters = dataloader.load_characters()\n",
    "print(len(characters))\n",
    "characters.head()"
   ]
  },
  {
   "cell_type": "code",
   "execution_count": null,
   "metadata": {},
   "outputs": [],
   "source": [
    "movies_with_characters = dataloader.load_movies_with_characters()\n",
    "\n",
    "print(len(movies_with_characters))\n",
    "movies_with_characters.head()"
   ]
  },
  {
   "cell_type": "code",
   "execution_count": null,
   "metadata": {},
   "outputs": [],
   "source": [
    "def get_revenue(wikidata_id):\n",
    "    url = \"https://www.wikidata.org/w/api.php\"\n",
    "    params = {\n",
    "        \"action\": \"wbgetentities\",\n",
    "        \"ids\": wikidata_id,\n",
    "        \"format\": \"json\",\n",
    "        \"languages\": \"en\",\n",
    "    }\n",
    "    try:\n",
    "        response = requests.get(url, params=params)\n",
    "        data = response.json()\n",
    "        if \"entities\" in data and wikidata_id in data[\"entities\"]:\n",
    "            claims = data[\"entities\"][wikidata_id][\"claims\"]\n",
    "            if \"P2142\" in claims:\n",
    "                box_office_claim = claims[\"P2142\"][0][\"mainsnak\"][\"datavalue\"][\"value\"]\n",
    "                return float(box_office_claim[\"amount\"])\n",
    "            else:\n",
    "                return None\n",
    "        else:\n",
    "            return None\n",
    "    except requests.exceptions.RequestException:\n",
    "        return None\n",
    "\n",
    "def update_movie_revenue(movie_df):\n",
    "    for index, row in movie_df.iterrows():\n",
    "        if pd.notna(row[\"Movie box office revenue\"]):\n",
    "            continue\n",
    "        revenue = get_revenue(row[\"wikidata_id\"])\n",
    "        if revenue == 0:\n",
    "            revenue = None\n",
    "\n",
    "        print(\"revenue\", revenue)\n",
    "\n",
    "        movie_df.at[index, \"Movie box office revenue\"] = revenue\n",
    "\n",
    "    return movie_df\n",
    "\n",
    "# movies_with_characters = update_movie_revenue(movies_with_characters)"
   ]
  },
  {
   "cell_type": "code",
   "execution_count": null,
   "metadata": {},
   "outputs": [],
   "source": [
    "genre_counts = (\n",
    "    movies_with_characters[\"Movie genres\"].str.split(\", \").explode().value_counts()\n",
    ")\n",
    "\n",
    "plt.figure(figsize=(15, 6))\n",
    "genre_counts[:20].plot(kind=\"bar\", title=\"Top 20 genres\", ylabel=\"Count\", xlabel=\"Movie Genre\", alpha=0.75)"
   ]
  },
  {
   "cell_type": "code",
   "execution_count": null,
   "metadata": {},
   "outputs": [],
   "source": [
    "year_counts = movies_with_characters[\"Movie release date\"].value_counts()\n",
    "# drop nan\n",
    "year_counts = year_counts[year_counts.index.str.isnumeric()]\n",
    "year_counts.sort_index(ascending=False, inplace=True)\n",
    "plt.figure(figsize=(20, 6))\n",
    "year_counts[:50].plot(kind=\"bar\", title=\"Number of movies in last 50 years\", ylabel=\"Count\", xlabel=\"Year\", alpha=0.75)"
   ]
  },
  {
   "cell_type": "code",
   "execution_count": null,
   "metadata": {},
   "outputs": [],
   "source": [
    "# Convert 'Movie release date' to numeric without modifying the original dataset\n",
    "recent_years = (\n",
    "    pd.to_numeric(movies_with_characters[\"Movie release date\"], errors=\"coerce\")\n",
    "    .dropna()\n",
    "    .astype(int)\n",
    "    .sort_values(ascending=False)\n",
    "    .unique()[3:15]\n",
    ")\n",
    "\n",
    "top_genres_per_year = pd.DataFrame()\n",
    "\n",
    "for year in recent_years:\n",
    "    # Get movies in the year\n",
    "    movies_in_year = movies_with_characters[\n",
    "        pd.to_numeric(movies_with_characters[\"Movie release date\"], errors=\"coerce\") == year\n",
    "    ]\n",
    "\n",
    "    # Count the genres for movies in this year\n",
    "    genre_counts = (\n",
    "        movies_in_year[\"Movie genres\"].str.split(\", \").explode().value_counts()\n",
    "    )\n",
    "\n",
    "    # Get the top 3 genres and their counts\n",
    "    top_genres = genre_counts.head(3)\n",
    "\n",
    "    # Add the data to the DataFrame\n",
    "    top_genres_per_year = pd.concat(\n",
    "        [top_genres_per_year, pd.DataFrame({year: top_genres})], axis=1\n",
    "    )\n",
    "\n",
    "# Transpose and clean up the DataFrame for plotting\n",
    "top_genres_per_year = top_genres_per_year.T.fillna(0)\n",
    "\n",
    "# Plotting the top 3 genres per year for the last 10 years\n",
    "plt.figure(figsize=(15, 8))\n",
    "top_genres_per_year.plot(kind=\"bar\", stacked=True, figsize=(15, 8), width=0.8)\n",
    "\n",
    "plt.title(\"Top 3 Movie Genres Per Year\")\n",
    "plt.xlabel(\"Year\")\n",
    "plt.ylabel(\"Number of Movies\")\n",
    "plt.xticks(rotation=45)\n",
    "plt.legend(title=\"Genres\", bbox_to_anchor=(1.05, 1))\n",
    "plt.tight_layout()\n",
    "plt.show()"
   ]
  },
  {
   "cell_type": "code",
   "execution_count": null,
   "metadata": {},
   "outputs": [],
   "source": [
    "language_counts = (\n",
    "    movies_with_characters[\"Movie languages\"].str.split(\", \").explode().value_counts()\n",
    ")\n",
    "language_counts\n",
    "# remove the languages with less than 2 character\n",
    "language_counts = language_counts[language_counts.index.str.len() > 1]\n",
    "language_counts[:20].plot(kind=\"bar\", title=\"Top 20 languages\", ylabel=\"Count\")"
   ]
  },
  {
   "cell_type": "code",
   "execution_count": null,
   "metadata": {},
   "outputs": [],
   "source": [
    "# Extract the 'Actor gender' column, split it by commas, and count the occurrences of 'F' and 'M'\n",
    "gender_counts = (\n",
    "    movies_with_characters[\"actor_gender\"].str.split(\", \").explode().value_counts()\n",
    ")\n",
    "\n",
    "plt.figure(figsize=(8, 6))\n",
    "gender_counts[[\"F\", \"M\"]].plot(kind=\"bar\", color=[\"pink\", \"blue\"])\n",
    "plt.title(\"Number of Female vs Male Actors\")\n",
    "plt.xlabel(\"Gender\")\n",
    "plt.ylabel(\"Number of Actors\")\n",
    "plt.xticks(rotation=0)\n",
    "plt.show()"
   ]
  },
  {
   "cell_type": "code",
   "execution_count": null,
   "metadata": {},
   "outputs": [],
   "source": [
    "mean_revenue_per_year = movies_with_characters.groupby(\"Movie release date\")[\n",
    "    \"Movie box office revenue\"\n",
    "].mean()\n",
    "mean_revenue_per_year = mean_revenue_per_year.dropna()\n",
    "mean_revenue_per_year = mean_revenue_per_year[mean_revenue_per_year.index != \"nan\"]\n",
    "\n",
    "plt.figure(figsize=(25, 7))\n",
    "plt.plot(\n",
    "    mean_revenue_per_year.index,\n",
    "    mean_revenue_per_year.values,\n",
    "    color=\"b\",\n",
    "    marker=\".\",\n",
    "    linestyle=\"solid\",\n",
    "    markersize=12,\n",
    "    markerfacecolor=\"white\",\n",
    ")\n",
    "\n",
    "plt.title(\"Mean Movie Box Office Revenue Per Year\")\n",
    "plt.xlabel(\"Year\")\n",
    "plt.ylabel(\"Mean Revenue\")\n",
    "plt.grid(True)\n",
    "plt.xticks(rotation=45)\n",
    "plt.show()"
   ]
  },
  {
   "cell_type": "markdown",
   "metadata": {},
   "source": [
    "20k movies don't have any characters\n",
    "\n",
    "We will not merge name clusters because there is a baseline bias - we would only consider movies that have been successful and have sequels"
   ]
  },
  {
   "cell_type": "code",
   "execution_count": null,
   "metadata": {},
   "outputs": [],
   "source": [
    "# Add these imports\n",
    "import numpy as np\n",
    "from sklearn.cluster import KMeans\n",
    "from sklearn.decomposition import TruncatedSVD\n",
    "from sklearn.feature_extraction.text import TfidfVectorizer\n",
    "\n",
    "# Preprocess and vectorize the plot text\n",
    "tfidf = TfidfVectorizer(\n",
    "    max_features=1000,  # Limit to top 1000 terms\n",
    "    stop_words=\"english\",\n",
    "    ngram_range=(1, 2),  # Consider both single words and bigrams\n",
    "    min_df=5,  # Ignore terms that appear in less than 5 documents\n",
    ")\n",
    "\n",
    "# Create document-term matrix\n",
    "plot_features = tfidf.fit_transform(movies_with_characters[\"plot\"])\n",
    "\n",
    "# Reduce dimensionality (optional but recommended for better clustering)\n",
    "svd = TruncatedSVD(n_components=100)\n",
    "plot_features_reduced = svd.fit_transform(plot_features)\n",
    "\n",
    "# Cluster the movies\n",
    "n_clusters = 20  # You can adjust this number\n",
    "kmeans = KMeans(n_clusters=n_clusters, random_state=42)\n",
    "movies_with_characters[\"cluster\"] = kmeans.fit_predict(plot_features_reduced)\n",
    "\n",
    "\n",
    "# Analyze the clusters\n",
    "def get_top_terms_per_cluster():\n",
    "    # Get the cluster centers in terms of the original TF-IDF features\n",
    "    original_space_centroids = svd.inverse_transform(kmeans.cluster_centers_)\n",
    "\n",
    "    for cluster in range(n_clusters):\n",
    "        top_indices = np.argsort(original_space_centroids[cluster])[\n",
    "            -10:\n",
    "        ]  # Top 10 terms\n",
    "        top_terms = [tfidf.get_feature_names_out()[i] for i in top_indices]\n",
    "        print(f\"\\nCluster {cluster} top terms:\")\n",
    "        print(\", \".join(top_terms))\n",
    "\n",
    "\n",
    "# Display results\n",
    "get_top_terms_per_cluster()"
   ]
  }
 ],
 "metadata": {
  "kernelspec": {
   "display_name": "ada",
   "language": "python",
   "name": "python3"
  },
  "language_info": {
   "codemirror_mode": {
    "name": "ipython",
    "version": 3
   },
   "file_extension": ".py",
   "mimetype": "text/x-python",
   "name": "python",
   "nbconvert_exporter": "python",
   "pygments_lexer": "ipython3",
   "version": "3.11.9"
  }
 },
 "nbformat": 4,
 "nbformat_minor": 2
}
